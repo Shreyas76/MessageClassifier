{
 "cells": [
  {
   "cell_type": "code",
   "execution_count": 1,
   "metadata": {},
   "outputs": [],
   "source": [
    "import pandas as pd\n",
    "import numpy as np\n",
    "from nltk.tokenize import word_tokenize\n",
    "from nltk import pos_tag\n",
    "from nltk.corpus import stopwords\n",
    "from nltk.stem import WordNetLemmatizer\n",
    "from sklearn.preprocessing import LabelEncoder\n",
    "from collections import defaultdict\n",
    "from nltk.corpus import wordnet as wn\n",
    "from sklearn.feature_extraction.text import TfidfVectorizer\n",
    "from sklearn import model_selection, naive_bayes, svm\n",
    "from sklearn.metrics import accuracy_score\n",
    "import os"
   ]
  },
  {
   "cell_type": "code",
   "execution_count": 2,
   "metadata": {},
   "outputs": [],
   "source": [
    "Sh= pd.read_csv(\"Book1.csv\")"
   ]
  },
  {
   "cell_type": "code",
   "execution_count": 3,
   "metadata": {},
   "outputs": [
    {
     "data": {
      "text/html": [
       "<div>\n",
       "<style scoped>\n",
       "    .dataframe tbody tr th:only-of-type {\n",
       "        vertical-align: middle;\n",
       "    }\n",
       "\n",
       "    .dataframe tbody tr th {\n",
       "        vertical-align: top;\n",
       "    }\n",
       "\n",
       "    .dataframe thead th {\n",
       "        text-align: right;\n",
       "    }\n",
       "</style>\n",
       "<table border=\"1\" class=\"dataframe\">\n",
       "  <thead>\n",
       "    <tr style=\"text-align: right;\">\n",
       "      <th></th>\n",
       "      <th>Body</th>\n",
       "      <th>Type</th>\n",
       "    </tr>\n",
       "  </thead>\n",
       "  <tbody>\n",
       "    <tr>\n",
       "      <th>0</th>\n",
       "      <td>Congrats on your new 4G handset! Exclusive off...</td>\n",
       "      <td>Spam</td>\n",
       "    </tr>\n",
       "    <tr>\n",
       "      <th>1</th>\n",
       "      <td>Your Google verification code is 743610</td>\n",
       "      <td>Important</td>\n",
       "    </tr>\n",
       "  </tbody>\n",
       "</table>\n",
       "</div>"
      ],
      "text/plain": [
       "                                                Body       Type\n",
       "0  Congrats on your new 4G handset! Exclusive off...       Spam\n",
       "1            Your Google verification code is 743610  Important"
      ]
     },
     "execution_count": 3,
     "metadata": {},
     "output_type": "execute_result"
    }
   ],
   "source": [
    "Sh.head(2)"
   ]
  },
  {
   "cell_type": "code",
   "execution_count": 4,
   "metadata": {},
   "outputs": [],
   "source": [
    "df3=Sh"
   ]
  },
  {
   "cell_type": "code",
   "execution_count": 89,
   "metadata": {},
   "outputs": [],
   "source": [
    "category_codes = {\n",
    "    'financial': 0,\n",
    "    'Important': 1,\n",
    "    'spam': 2,\n",
    "    'Spam': 2,\n",
    "}"
   ]
  },
  {
   "cell_type": "code",
   "execution_count": 90,
   "metadata": {},
   "outputs": [],
   "source": [
    "df3['Category_Code'] = df3['Type']\n",
    "df3 = df3.replace({'Category_Code':category_codes})"
   ]
  },
  {
   "cell_type": "code",
   "execution_count": 92,
   "metadata": {},
   "outputs": [
    {
     "data": {
      "text/html": [
       "<div>\n",
       "<style scoped>\n",
       "    .dataframe tbody tr th:only-of-type {\n",
       "        vertical-align: middle;\n",
       "    }\n",
       "\n",
       "    .dataframe tbody tr th {\n",
       "        vertical-align: top;\n",
       "    }\n",
       "\n",
       "    .dataframe thead th {\n",
       "        text-align: right;\n",
       "    }\n",
       "</style>\n",
       "<table border=\"1\" class=\"dataframe\">\n",
       "  <thead>\n",
       "    <tr style=\"text-align: right;\">\n",
       "      <th></th>\n",
       "      <th>Body</th>\n",
       "      <th>Type</th>\n",
       "      <th>Category_Code</th>\n",
       "    </tr>\n",
       "  </thead>\n",
       "  <tbody>\n",
       "    <tr>\n",
       "      <th>0</th>\n",
       "      <td>Congrats on your new 4G handset! Exclusive off...</td>\n",
       "      <td>Spam</td>\n",
       "      <td>2</td>\n",
       "    </tr>\n",
       "    <tr>\n",
       "      <th>1</th>\n",
       "      <td>Your Google verification code is 743610</td>\n",
       "      <td>Important</td>\n",
       "      <td>1</td>\n",
       "    </tr>\n",
       "    <tr>\n",
       "      <th>2</th>\n",
       "      <td>46322 is your one time password to proceed on ...</td>\n",
       "      <td>Important</td>\n",
       "      <td>1</td>\n",
       "    </tr>\n",
       "    <tr>\n",
       "      <th>3</th>\n",
       "      <td>Your One Time Password(OTP) for Syndicate Bank...</td>\n",
       "      <td>Important</td>\n",
       "      <td>1</td>\n",
       "    </tr>\n",
       "    <tr>\n",
       "      <th>4</th>\n",
       "      <td>You've received Rs.50 cashback from PhonePe in...</td>\n",
       "      <td>financial</td>\n",
       "      <td>0</td>\n",
       "    </tr>\n",
       "    <tr>\n",
       "      <th>5</th>\n",
       "      <td>Recharge of Rs.50 for Airtel Mobile (994536905...</td>\n",
       "      <td>spam</td>\n",
       "      <td>2</td>\n",
       "    </tr>\n",
       "    <tr>\n",
       "      <th>6</th>\n",
       "      <td>Recharge done on 27-10-2017 06:59PM,MRP:Rs50.0...</td>\n",
       "      <td>spam</td>\n",
       "      <td>2</td>\n",
       "    </tr>\n",
       "    <tr>\n",
       "      <th>7</th>\n",
       "      <td>Benefit: Talktime of 39.37 in main account. Di...</td>\n",
       "      <td>spam</td>\n",
       "      <td>2</td>\n",
       "    </tr>\n",
       "    <tr>\n",
       "      <th>8</th>\n",
       "      <td>933946  is the otp for syndicate upi transaction</td>\n",
       "      <td>Important</td>\n",
       "      <td>1</td>\n",
       "    </tr>\n",
       "    <tr>\n",
       "      <th>9</th>\n",
       "      <td>Your a/c no.XXXXXXXX055690 is has been registe...</td>\n",
       "      <td>financial</td>\n",
       "      <td>0</td>\n",
       "    </tr>\n",
       "    <tr>\n",
       "      <th>10</th>\n",
       "      <td>SYN- INR 50.00 debited to A/C No. ***5690 on 2...</td>\n",
       "      <td>financial</td>\n",
       "      <td>0</td>\n",
       "    </tr>\n",
       "    <tr>\n",
       "      <th>11</th>\n",
       "      <td>You've sent Rs.150 to shashidhar reddy via Pho...</td>\n",
       "      <td>financial</td>\n",
       "      <td>0</td>\n",
       "    </tr>\n",
       "    <tr>\n",
       "      <th>12</th>\n",
       "      <td>You've received Rs.75 cashback from PhonePe in...</td>\n",
       "      <td>financial</td>\n",
       "      <td>0</td>\n",
       "    </tr>\n",
       "    <tr>\n",
       "      <th>13</th>\n",
       "      <td>Your 9945369054@ybl linked to a/c no.XXXXXXXX0...</td>\n",
       "      <td>financial</td>\n",
       "      <td>0</td>\n",
       "    </tr>\n",
       "    <tr>\n",
       "      <th>14</th>\n",
       "      <td>Your A/c XXX5690 is debited with INR 150.00 on...</td>\n",
       "      <td>financial</td>\n",
       "      <td>0</td>\n",
       "    </tr>\n",
       "    <tr>\n",
       "      <th>15</th>\n",
       "      <td>Your A/c XXX5690 is credited with INR 150.00 o...</td>\n",
       "      <td>financial</td>\n",
       "      <td>0</td>\n",
       "    </tr>\n",
       "    <tr>\n",
       "      <th>16</th>\n",
       "      <td>You've received Rs.150 from shashidhar reddy v...</td>\n",
       "      <td>financial</td>\n",
       "      <td>0</td>\n",
       "    </tr>\n",
       "    <tr>\n",
       "      <th>17</th>\n",
       "      <td>Your A/c XXX5690 is credited with INR 51.00 on...</td>\n",
       "      <td>financial</td>\n",
       "      <td>0</td>\n",
       "    </tr>\n",
       "    <tr>\n",
       "      <th>18</th>\n",
       "      <td>Rs 51.00 credited to account XXXXX5690 of SYNB...</td>\n",
       "      <td>financial</td>\n",
       "      <td>0</td>\n",
       "    </tr>\n",
       "    <tr>\n",
       "      <th>19</th>\n",
       "      <td>Your shreyassk987@okaxis linked to a/c no.XXXX...</td>\n",
       "      <td>financial</td>\n",
       "      <td>0</td>\n",
       "    </tr>\n",
       "    <tr>\n",
       "      <th>20</th>\n",
       "      <td>Your 9945369054@ybl linked to a/c no.XXXXXXXX0...</td>\n",
       "      <td>financial</td>\n",
       "      <td>0</td>\n",
       "    </tr>\n",
       "    <tr>\n",
       "      <th>21</th>\n",
       "      <td>Your shreyassk987@okaxis linked to a/c no.XXXX...</td>\n",
       "      <td>financial</td>\n",
       "      <td>0</td>\n",
       "    </tr>\n",
       "    <tr>\n",
       "      <th>22</th>\n",
       "      <td>Your A/c XXX5690 is debited with INR 51.00 on ...</td>\n",
       "      <td>financial</td>\n",
       "      <td>0</td>\n",
       "    </tr>\n",
       "    <tr>\n",
       "      <th>23</th>\n",
       "      <td>Your A/c XXX5690 is credited with INR 150.00 o...</td>\n",
       "      <td>financial</td>\n",
       "      <td>0</td>\n",
       "    </tr>\n",
       "    <tr>\n",
       "      <th>24</th>\n",
       "      <td>You've received Rs.150 from Shubham Khorvi via...</td>\n",
       "      <td>financial</td>\n",
       "      <td>0</td>\n",
       "    </tr>\n",
       "    <tr>\n",
       "      <th>25</th>\n",
       "      <td>You've received Rs.100 cashback from PhonePe i...</td>\n",
       "      <td>financial</td>\n",
       "      <td>0</td>\n",
       "    </tr>\n",
       "    <tr>\n",
       "      <th>26</th>\n",
       "      <td>Your 9945369054@ybl linked to a/c no.XXXXXXXX0...</td>\n",
       "      <td>financial</td>\n",
       "      <td>0</td>\n",
       "    </tr>\n",
       "    <tr>\n",
       "      <th>27</th>\n",
       "      <td>Your A/c XXX5690 is debited with INR 150.00 on...</td>\n",
       "      <td>financial</td>\n",
       "      <td>0</td>\n",
       "    </tr>\n",
       "    <tr>\n",
       "      <th>28</th>\n",
       "      <td>You've sent Rs.150 to Shubham Khorvi via Phone...</td>\n",
       "      <td>financial</td>\n",
       "      <td>0</td>\n",
       "    </tr>\n",
       "    <tr>\n",
       "      <th>29</th>\n",
       "      <td>Your 9945369054@ybl linked to a/c no.XXXXXXXX0...</td>\n",
       "      <td>financial</td>\n",
       "      <td>0</td>\n",
       "    </tr>\n",
       "    <tr>\n",
       "      <th>30</th>\n",
       "      <td>Your A/c XXX5690 is credited with INR 51.00 on...</td>\n",
       "      <td>financial</td>\n",
       "      <td>0</td>\n",
       "    </tr>\n",
       "    <tr>\n",
       "      <th>31</th>\n",
       "      <td>Rs 51.00 credited to account XXXXX5690 of SYNB...</td>\n",
       "      <td>financial</td>\n",
       "      <td>0</td>\n",
       "    </tr>\n",
       "    <tr>\n",
       "      <th>32</th>\n",
       "      <td>Your shreyassk987@okaxis linked to a/c no.XXXX...</td>\n",
       "      <td>financial</td>\n",
       "      <td>0</td>\n",
       "    </tr>\n",
       "    <tr>\n",
       "      <th>33</th>\n",
       "      <td>Your A/c XXX5690 is credited with INR 51.00 on...</td>\n",
       "      <td>financial</td>\n",
       "      <td>0</td>\n",
       "    </tr>\n",
       "    <tr>\n",
       "      <th>34</th>\n",
       "      <td>Rs 51.00 credited to account XXXXX5690 of SYNB...</td>\n",
       "      <td>financial</td>\n",
       "      <td>0</td>\n",
       "    </tr>\n",
       "    <tr>\n",
       "      <th>35</th>\n",
       "      <td>Your shreyassk987@okaxis linked to a/c no.XXXX...</td>\n",
       "      <td>financial</td>\n",
       "      <td>0</td>\n",
       "    </tr>\n",
       "    <tr>\n",
       "      <th>36</th>\n",
       "      <td>Your A/c XXX5690 is debited with INR 51.00 on ...</td>\n",
       "      <td>financial</td>\n",
       "      <td>0</td>\n",
       "    </tr>\n",
       "  </tbody>\n",
       "</table>\n",
       "</div>"
      ],
      "text/plain": [
       "                                                 Body       Type  \\\n",
       "0   Congrats on your new 4G handset! Exclusive off...       Spam   \n",
       "1             Your Google verification code is 743610  Important   \n",
       "2   46322 is your one time password to proceed on ...  Important   \n",
       "3   Your One Time Password(OTP) for Syndicate Bank...  Important   \n",
       "4   You've received Rs.50 cashback from PhonePe in...  financial   \n",
       "5   Recharge of Rs.50 for Airtel Mobile (994536905...       spam   \n",
       "6   Recharge done on 27-10-2017 06:59PM,MRP:Rs50.0...       spam   \n",
       "7   Benefit: Talktime of 39.37 in main account. Di...       spam   \n",
       "8    933946  is the otp for syndicate upi transaction  Important   \n",
       "9   Your a/c no.XXXXXXXX055690 is has been registe...  financial   \n",
       "10  SYN- INR 50.00 debited to A/C No. ***5690 on 2...  financial   \n",
       "11  You've sent Rs.150 to shashidhar reddy via Pho...  financial   \n",
       "12  You've received Rs.75 cashback from PhonePe in...  financial   \n",
       "13  Your 9945369054@ybl linked to a/c no.XXXXXXXX0...  financial   \n",
       "14  Your A/c XXX5690 is debited with INR 150.00 on...  financial   \n",
       "15  Your A/c XXX5690 is credited with INR 150.00 o...  financial   \n",
       "16  You've received Rs.150 from shashidhar reddy v...  financial   \n",
       "17  Your A/c XXX5690 is credited with INR 51.00 on...  financial   \n",
       "18  Rs 51.00 credited to account XXXXX5690 of SYNB...  financial   \n",
       "19  Your shreyassk987@okaxis linked to a/c no.XXXX...  financial   \n",
       "20  Your 9945369054@ybl linked to a/c no.XXXXXXXX0...  financial   \n",
       "21  Your shreyassk987@okaxis linked to a/c no.XXXX...  financial   \n",
       "22  Your A/c XXX5690 is debited with INR 51.00 on ...  financial   \n",
       "23  Your A/c XXX5690 is credited with INR 150.00 o...  financial   \n",
       "24  You've received Rs.150 from Shubham Khorvi via...  financial   \n",
       "25  You've received Rs.100 cashback from PhonePe i...  financial   \n",
       "26  Your 9945369054@ybl linked to a/c no.XXXXXXXX0...  financial   \n",
       "27  Your A/c XXX5690 is debited with INR 150.00 on...  financial   \n",
       "28  You've sent Rs.150 to Shubham Khorvi via Phone...  financial   \n",
       "29  Your 9945369054@ybl linked to a/c no.XXXXXXXX0...  financial   \n",
       "30  Your A/c XXX5690 is credited with INR 51.00 on...  financial   \n",
       "31  Rs 51.00 credited to account XXXXX5690 of SYNB...  financial   \n",
       "32  Your shreyassk987@okaxis linked to a/c no.XXXX...  financial   \n",
       "33  Your A/c XXX5690 is credited with INR 51.00 on...  financial   \n",
       "34  Rs 51.00 credited to account XXXXX5690 of SYNB...  financial   \n",
       "35  Your shreyassk987@okaxis linked to a/c no.XXXX...  financial   \n",
       "36  Your A/c XXX5690 is debited with INR 51.00 on ...  financial   \n",
       "\n",
       "    Category_Code  \n",
       "0               2  \n",
       "1               1  \n",
       "2               1  \n",
       "3               1  \n",
       "4               0  \n",
       "5               2  \n",
       "6               2  \n",
       "7               2  \n",
       "8               1  \n",
       "9               0  \n",
       "10              0  \n",
       "11              0  \n",
       "12              0  \n",
       "13              0  \n",
       "14              0  \n",
       "15              0  \n",
       "16              0  \n",
       "17              0  \n",
       "18              0  \n",
       "19              0  \n",
       "20              0  \n",
       "21              0  \n",
       "22              0  \n",
       "23              0  \n",
       "24              0  \n",
       "25              0  \n",
       "26              0  \n",
       "27              0  \n",
       "28              0  \n",
       "29              0  \n",
       "30              0  \n",
       "31              0  \n",
       "32              0  \n",
       "33              0  \n",
       "34              0  \n",
       "35              0  \n",
       "36              0  "
      ]
     },
     "execution_count": 92,
     "metadata": {},
     "output_type": "execute_result"
    }
   ],
   "source": [
    "df3"
   ]
  },
  {
   "cell_type": "code",
   "execution_count": 69,
   "metadata": {},
   "outputs": [],
   "source": [
    "from sklearn.model_selection import train_test_split"
   ]
  },
  {
   "cell_type": "code",
   "execution_count": 93,
   "metadata": {},
   "outputs": [],
   "source": [
    "X_train, X_test, y_train, y_test = train_test_split(df3['Body'], \n",
    "                                                    df3['Category_Code'], \n",
    "                                                    test_size=0.15, \n",
    "                                                    random_state=8)"
   ]
  },
  {
   "cell_type": "code",
   "execution_count": 94,
   "metadata": {},
   "outputs": [],
   "source": [
    "ngram_range = (1,2)\n",
    "min_df = 10\n",
    "max_df = 1.\n",
    "max_features = 300"
   ]
  },
  {
   "cell_type": "code",
   "execution_count": 95,
   "metadata": {},
   "outputs": [],
   "source": [
    "from sklearn.feature_extraction.text import TfidfVectorizer"
   ]
  },
  {
   "cell_type": "code",
   "execution_count": 96,
   "metadata": {},
   "outputs": [
    {
     "name": "stdout",
     "output_type": "stream",
     "text": [
      "(31, 18)\n",
      "(6, 18)\n"
     ]
    }
   ],
   "source": [
    "tfidf = TfidfVectorizer(encoding='utf-8',\n",
    "                        ngram_range=ngram_range,\n",
    "                        stop_words=None,\n",
    "                        lowercase=False,\n",
    "                        max_df=max_df,\n",
    "                        min_df=min_df,\n",
    "                        max_features=max_features,\n",
    "                        norm='l2',\n",
    "                        sublinear_tf=True)\n",
    "                        \n",
    "features_train = tfidf.fit_transform(X_train).toarray()\n",
    "labels_train = y_train\n",
    "print(features_train.shape)\n",
    "\n",
    "features_test = tfidf.transform(X_test).toarray()\n",
    "labels_test = y_test\n",
    "print(features_test.shape)"
   ]
  },
  {
   "cell_type": "code",
   "execution_count": 97,
   "metadata": {},
   "outputs": [
    {
     "name": "stdout",
     "output_type": "stream",
     "text": [
      "[[0.         0.         0.         0.         0.         0.\n",
      "  0.         0.         0.         0.         0.         0.\n",
      "  0.         0.         0.         1.         0.         0.        ]\n",
      " [0.2253771  0.26948376 0.         0.         0.21789672 0.21789672\n",
      "  0.30369554 0.3170359  0.         0.25029408 0.30369554 0.25029408\n",
      "  0.30369554 0.25958888 0.21076439 0.20394917 0.2415307  0.25958888]\n",
      " [0.23608141 0.28228292 0.         0.33209356 0.22824575 0.22824575\n",
      "  0.3181196  0.33209356 0.33209356 0.         0.         0.26218182\n",
      "  0.3181196  0.         0.22077467 0.21363575 0.25300223 0.        ]\n",
      " [0.         0.         0.66028333 0.         0.         0.\n",
      "  0.         0.         0.         0.52128167 0.         0.\n",
      "  0.         0.         0.         0.         0.         0.54063976]\n",
      " [0.2495673  0.29840802 0.35106403 0.         0.24128403 0.24128403\n",
      "  0.         0.         0.         0.27715866 0.33629182 0.27715866\n",
      "  0.         0.2874511  0.23338618 0.22583946 0.26745469 0.2874511 ]\n",
      " [0.         0.         0.         0.         0.         0.\n",
      "  0.         0.         0.         0.         0.         0.7649256\n",
      "  0.         0.         0.64411864 0.         0.         0.        ]]\n"
     ]
    }
   ],
   "source": [
    "print(features_test)"
   ]
  },
  {
   "cell_type": "code",
   "execution_count": 98,
   "metadata": {},
   "outputs": [
    {
     "name": "stdout",
     "output_type": "stream",
     "text": [
      "# 'Important' category:\n",
      "  . Most correlated unigrams:\n",
      ". 2017\n",
      ". 00\n",
      ". Rs\n",
      ". is\n",
      ". for\n",
      "  . Most correlated bigrams:\n",
      ". 00 on\n",
      ". on 27\n",
      "\n",
      "# 'Spam' category:\n",
      "  . Most correlated unigrams:\n",
      ". 17\n",
      ". UPI\n",
      ". Your\n",
      ". 150\n",
      ". is\n",
      "  . Most correlated bigrams:\n",
      ". 51 00\n",
      ". 00 on\n",
      "\n",
      "# 'financial' category:\n",
      "  . Most correlated unigrams:\n",
      ". 51\n",
      ". 17\n",
      ". UPI\n",
      ". 150\n",
      ". for\n",
      "  . Most correlated bigrams:\n",
      ". 51 00\n",
      ". 00 on\n",
      "\n",
      "# 'spam' category:\n",
      "  . Most correlated unigrams:\n",
      ". 17\n",
      ". UPI\n",
      ". Your\n",
      ". 150\n",
      ". is\n",
      "  . Most correlated bigrams:\n",
      ". 51 00\n",
      ". 00 on\n",
      "\n"
     ]
    }
   ],
   "source": [
    "from sklearn.feature_selection import chi2\n",
    "import numpy as np\n",
    "\n",
    "for Product, category_id in sorted(category_codes.items()):\n",
    "    features_chi2 = chi2(features_train, labels_train == category_id)\n",
    "    indices = np.argsort(features_chi2[0])\n",
    "    feature_names = np.array(tfidf.get_feature_names())[indices]\n",
    "    unigrams = [v for v in feature_names if len(v.split(' ')) == 1]\n",
    "    bigrams = [v for v in feature_names if len(v.split(' ')) == 2]\n",
    "    print(\"# '{}' category:\".format(Product))\n",
    "    print(\"  . Most correlated unigrams:\\n. {}\".format('\\n. '.join(unigrams[-5:])))\n",
    "    print(\"  . Most correlated bigrams:\\n. {}\".format('\\n. '.join(bigrams[-2:])))\n",
    "    print(\"\")"
   ]
  },
  {
   "cell_type": "code",
   "execution_count": 99,
   "metadata": {},
   "outputs": [
    {
     "data": {
      "text/plain": [
       "['on 27', '51 00', '00 on']"
      ]
     },
     "execution_count": 99,
     "metadata": {},
     "output_type": "execute_result"
    }
   ],
   "source": [
    "bigrams"
   ]
  },
  {
   "cell_type": "code",
   "execution_count": 100,
   "metadata": {},
   "outputs": [],
   "source": [
    "import pickle"
   ]
  },
  {
   "cell_type": "code",
   "execution_count": 101,
   "metadata": {},
   "outputs": [],
   "source": [
    "# X_train\n",
    "with open('C:\\\\Users\\\\Sanjana Ashtaputre\\\\Downloads//X_train.pickle', 'wb') as output:\n",
    "    pickle.dump(X_train, output)\n",
    "    \n",
    "# X_test    \n",
    "with open('C:\\\\Users\\\\Sanjana Ashtaputre\\\\Downloads//X_test.pickle', 'wb') as output:\n",
    "    pickle.dump(X_test, output)\n",
    "    \n",
    "# y_train\n",
    "with open('C:\\\\Users\\\\Sanjana Ashtaputre\\\\Downloads//y_train.pickle', 'wb') as output:\n",
    "    pickle.dump(y_train, output)\n",
    "    \n",
    "# y_test\n",
    "with open('C:\\\\Users\\\\Sanjana Ashtaputre\\\\Downloads//y_test.pickle', 'wb') as output:\n",
    "    pickle.dump(y_test, output)\n",
    "    \n",
    "# df\n",
    "with open('C:\\\\Users\\\\Sanjana Ashtaputre\\\\Downloads//df.pickle', 'wb') as output:\n",
    "    pickle.dump(df3, output)\n",
    "    \n",
    "# features_train\n",
    "with open('C:\\\\Users\\\\Sanjana Ashtaputre\\\\Downloads//features_train.pickle', 'wb') as output:\n",
    "    pickle.dump(features_train, output)\n",
    "\n",
    "# labels_train\n",
    "with open('C:\\\\Users\\\\Sanjana Ashtaputre\\\\Downloads//labels_train.pickle', 'wb') as output:\n",
    "    pickle.dump(labels_train, output)\n",
    "\n",
    "# features_test\n",
    "with open('C:\\\\Users\\\\Sanjana Ashtaputre\\\\Downloads//features_test.pickle', 'wb') as output:\n",
    "    pickle.dump(features_test, output)\n",
    "\n",
    "# labels_test\n",
    "with open('C:\\\\Users\\\\Sanjana Ashtaputre\\\\Downloads//labels_test.pickle', 'wb') as output:\n",
    "    pickle.dump(labels_test, output)\n",
    "    \n",
    "# TF-IDF object\n",
    "with open('C:\\\\Users\\\\Sanjana Ashtaputre\\\\Downloads//tfidf.pickle', 'wb') as output:\n",
    "    pickle.dump(tfidf, output)"
   ]
  },
  {
   "cell_type": "code",
   "execution_count": 102,
   "metadata": {},
   "outputs": [],
   "source": [
    "#importing libraries\n",
    "import pickle\n",
    "import numpy as np\n",
    "from sklearn.feature_extraction.text import TfidfVectorizer\n",
    "from sklearn.ensemble import RandomForestClassifier\n",
    "from pprint import pprint\n",
    "from sklearn.model_selection import RandomizedSearchCV\n",
    "from sklearn.model_selection import GridSearchCV\n",
    "from sklearn.metrics import classification_report, confusion_matrix, accuracy_score\n",
    "from sklearn.model_selection import ShuffleSplit\n",
    "import matplotlib.pyplot as plt\n",
    "import seaborn as sns\n",
    "import pandas as pd"
   ]
  },
  {
   "cell_type": "markdown",
   "metadata": {},
   "source": [
    "Loading Data."
   ]
  },
  {
   "cell_type": "code",
   "execution_count": 105,
   "metadata": {},
   "outputs": [],
   "source": [
    "# Dataframe\n",
    "path_df = \"C:\\\\Users\\\\Sanjana Ashtaputre\\\\Downloads//df.pickle\"\n",
    "with open(path_df, 'rb') as data:\n",
    "    df = pickle.load(data)\n",
    "\n",
    "# features_train\n",
    "path_features_train = \"C:\\\\Users\\\\Sanjana Ashtaputre\\\\Downloads//features_train.pickle\"\n",
    "with open(path_features_train, 'rb') as data:\n",
    "    features_train = pickle.load(data)\n",
    "\n",
    "# labels_train\n",
    "path_labels_train = \"C:\\\\Users\\\\Sanjana Ashtaputre\\\\Downloads//labels_train.pickle\"\n",
    "with open(path_labels_train, 'rb') as data:\n",
    "    labels_train = pickle.load(data)\n",
    "\n",
    "# features_test\n",
    "path_features_test = \"C:\\\\Users\\\\Sanjana Ashtaputre\\\\Downloads//features_test.pickle\"\n",
    "with open(path_features_test, 'rb') as data:\n",
    "    features_test = pickle.load(data)\n",
    "\n",
    "# labels_test\n",
    "path_labels_test = \"C:\\\\Users\\\\Sanjana Ashtaputre\\\\Downloads//labels_test.pickle\"\n",
    "with open(path_labels_test, 'rb') as data:\n",
    "    labels_test = pickle.load(data)"
   ]
  },
  {
   "cell_type": "markdown",
   "metadata": {},
   "source": [
    "Let's check the dimension of our feature vectors:"
   ]
  },
  {
   "cell_type": "code",
   "execution_count": 106,
   "metadata": {},
   "outputs": [
    {
     "name": "stdout",
     "output_type": "stream",
     "text": [
      "(31, 18)\n",
      "(6, 18)\n"
     ]
    }
   ],
   "source": [
    "print(features_train.shape)\n",
    "print(features_test.shape)"
   ]
  },
  {
   "cell_type": "markdown",
   "metadata": {},
   "source": [
    "Cross-Validation for Hyperparameter tuning\n",
    "First, we can see what hyperparameters the model has:"
   ]
  },
  {
   "cell_type": "code",
   "execution_count": 107,
   "metadata": {},
   "outputs": [
    {
     "name": "stdout",
     "output_type": "stream",
     "text": [
      "Parameters currently in use:\n",
      "\n",
      "{'bootstrap': True,\n",
      " 'class_weight': None,\n",
      " 'criterion': 'gini',\n",
      " 'max_depth': None,\n",
      " 'max_features': 'auto',\n",
      " 'max_leaf_nodes': None,\n",
      " 'min_impurity_decrease': 0.0,\n",
      " 'min_impurity_split': None,\n",
      " 'min_samples_leaf': 1,\n",
      " 'min_samples_split': 2,\n",
      " 'min_weight_fraction_leaf': 0.0,\n",
      " 'n_estimators': 'warn',\n",
      " 'n_jobs': None,\n",
      " 'oob_score': False,\n",
      " 'random_state': 8,\n",
      " 'verbose': 0,\n",
      " 'warm_start': False}\n"
     ]
    }
   ],
   "source": [
    "rf_0 = RandomForestClassifier(random_state = 8)\n",
    "\n",
    "print('Parameters currently in use:\\n')\n",
    "pprint(rf_0.get_params())"
   ]
  },
  {
   "cell_type": "markdown",
   "metadata": {},
   "source": [
    "We'll tune the following ones:\n",
    "\n",
    "n_estimators = number of trees in the forest.\n",
    "\n",
    "max_features = max number of features considered for splitting a node\n",
    "\n",
    "max_depth = max number of levels in each decision tree\n",
    "\n",
    "min_samples_split = min number of data points placed in a node before the node is split\n",
    "\n",
    "min_samples_leaf = min number of data points allowed in a leaf node\n",
    "\n",
    "bootstrap = method for sampling data points (with or without replacement)"
   ]
  },
  {
   "cell_type": "markdown",
   "metadata": {},
   "source": [
    "Randomized Search Cross Validation\n",
    "We first need to define the grid:"
   ]
  },
  {
   "cell_type": "code",
   "execution_count": 108,
   "metadata": {},
   "outputs": [
    {
     "name": "stdout",
     "output_type": "stream",
     "text": [
      "{'bootstrap': [True, False],\n",
      " 'max_depth': [20, 40, 60, 80, 100, None],\n",
      " 'max_features': ['auto', 'sqrt'],\n",
      " 'min_samples_leaf': [1, 2, 4],\n",
      " 'min_samples_split': [2, 5, 10],\n",
      " 'n_estimators': [200, 400, 600, 800, 1000]}\n"
     ]
    }
   ],
   "source": [
    "# n_estimators\n",
    "n_estimators = [int(x) for x in np.linspace(start = 200, stop = 1000, num = 5)]\n",
    "\n",
    "# max_features\n",
    "max_features = ['auto', 'sqrt']\n",
    "\n",
    "# max_depth\n",
    "max_depth = [int(x) for x in np.linspace(20, 100, num = 5)]\n",
    "max_depth.append(None)\n",
    "\n",
    "# min_samples_split\n",
    "min_samples_split = [2, 5, 10]\n",
    "\n",
    "# min_samples_leaf\n",
    "min_samples_leaf = [1, 2, 4]\n",
    "\n",
    "# bootstrap\n",
    "bootstrap = [True, False]\n",
    "\n",
    "# Create the random grid\n",
    "random_grid = {'n_estimators': n_estimators,\n",
    "               'max_features': max_features,\n",
    "               'max_depth': max_depth,\n",
    "               'min_samples_split': min_samples_split,\n",
    "               'min_samples_leaf': min_samples_leaf,\n",
    "               'bootstrap': bootstrap}\n",
    "\n",
    "pprint(random_grid)"
   ]
  },
  {
   "cell_type": "markdown",
   "metadata": {},
   "source": [
    "Then, we'll perform the Random Search:"
   ]
  },
  {
   "cell_type": "code",
   "execution_count": 110,
   "metadata": {},
   "outputs": [
    {
     "name": "stdout",
     "output_type": "stream",
     "text": [
      "[[0.         0.         0.         0.         0.         0.\n",
      "  0.         0.         0.         0.84357841 0.         0.\n",
      "  0.         0.416897   0.33848538 0.         0.         0.        ]\n",
      " [0.24901774 0.29775091 0.35029097 0.35029097 0.24075271 0.24075271\n",
      "  0.         0.         0.35029097 0.         0.         0.27654834\n",
      "  0.33555129 0.         0.23287225 0.22534215 0.26686574 0.        ]\n",
      " [0.         0.         0.         0.         0.         0.\n",
      "  0.         0.         0.         0.         0.         0.\n",
      "  0.         0.         0.         0.         0.         1.        ]\n",
      " [0.         0.         0.78487966 0.         0.         0.\n",
      "  0.         0.         0.         0.61964822 0.         0.\n",
      "  0.         0.         0.         0.         0.         0.        ]\n",
      " [0.24882977 0.         0.         0.         0.24057099 0.24057099\n",
      "  0.33529801 0.35002656 0.         0.2763396  0.33529801 0.\n",
      "  0.33529801 0.         0.         0.22517206 0.         0.48525874]\n",
      " [0.         0.         0.         0.         0.         0.\n",
      "  0.         0.         0.         0.65610872 0.         0.\n",
      "  0.         0.68047367 0.32630803 0.         0.         0.        ]\n",
      " [0.24901774 0.29775091 0.         0.35029097 0.24075271 0.24075271\n",
      "  0.33555129 0.35029097 0.35029097 0.         0.         0.27654834\n",
      "  0.         0.         0.23287225 0.22534215 0.26686574 0.        ]\n",
      " [0.26434388 0.3160764  0.37185011 0.37185011 0.25557017 0.25557017\n",
      "  0.         0.         0.37185011 0.         0.         0.2935689\n",
      "  0.         0.         0.2472047  0.23921114 0.28329037 0.        ]\n",
      " [0.23608141 0.28228292 0.         0.33209356 0.22824575 0.22824575\n",
      "  0.3181196  0.33209356 0.33209356 0.         0.         0.26218182\n",
      "  0.3181196  0.         0.22077467 0.21363575 0.25300223 0.        ]\n",
      " [0.24901774 0.29775091 0.         0.35029097 0.24075271 0.24075271\n",
      "  0.33555129 0.35029097 0.35029097 0.         0.         0.27654834\n",
      "  0.         0.         0.23287225 0.22534215 0.26686574 0.        ]\n",
      " [0.57461416 0.         0.         0.         0.32811231 0.32811231\n",
      "  0.         0.         0.47739764 0.         0.         0.\n",
      "  0.         0.         0.         0.30710986 0.36370072 0.        ]\n",
      " [0.26434388 0.3160764  0.37185011 0.37185011 0.25557017 0.25557017\n",
      "  0.         0.         0.37185011 0.         0.         0.2935689\n",
      "  0.         0.         0.2472047  0.23921114 0.28329037 0.        ]\n",
      " [0.24882977 0.         0.         0.         0.24057099 0.24057099\n",
      "  0.33529801 0.35002656 0.         0.2763396  0.33529801 0.\n",
      "  0.33529801 0.         0.         0.22517206 0.         0.48525874]\n",
      " [0.         0.         0.         0.         0.         0.\n",
      "  0.         0.         0.         0.         0.         0.\n",
      "  0.         0.47103584 0.64752988 0.37007504 0.         0.47103584]\n",
      " [0.23608141 0.28228292 0.33209356 0.33209356 0.22824575 0.22824575\n",
      "  0.3181196  0.         0.33209356 0.         0.         0.26218182\n",
      "  0.3181196  0.         0.22077467 0.21363575 0.25300223 0.        ]\n",
      " [0.         0.         0.         0.38225362 0.26272044 0.26272044\n",
      "  0.         0.         0.         0.         0.36616901 0.30178228\n",
      "  0.         0.52993667 0.25412092 0.24590372 0.29121618 0.        ]\n",
      " [0.         0.         0.66028333 0.         0.         0.\n",
      "  0.         0.         0.         0.52128167 0.         0.\n",
      "  0.         0.         0.         0.         0.         0.54063976]\n",
      " [0.         0.         0.         0.         0.         0.\n",
      "  0.         0.         0.         0.68446484 0.39573711 0.\n",
      "  0.         0.33826296 0.27464115 0.26576041 0.         0.33826296]\n",
      " [0.29555741 0.         0.         0.4157579  0.28574771 0.28574771\n",
      "  0.         0.         0.4157579  0.         0.         0.\n",
      "  0.         0.34042243 0.         0.26745702 0.31674109 0.34042243]\n",
      " [0.24882977 0.         0.         0.         0.24057099 0.24057099\n",
      "  0.33529801 0.35002656 0.         0.2763396  0.33529801 0.\n",
      "  0.33529801 0.         0.         0.22517206 0.         0.48525874]\n",
      " [0.23608141 0.28228292 0.         0.33209356 0.22824575 0.22824575\n",
      "  0.3181196  0.33209356 0.33209356 0.         0.         0.26218182\n",
      "  0.3181196  0.         0.22077467 0.21363575 0.25300223 0.        ]\n",
      " [0.23654954 0.28284266 0.         0.         0.22869834 0.22869834\n",
      "  0.3187504  0.33275207 0.         0.26270171 0.3187504  0.26270171\n",
      "  0.         0.27245728 0.22121245 0.21405938 0.25350391 0.27245728]\n",
      " [0.2495673  0.29840802 0.35106403 0.         0.24128403 0.24128403\n",
      "  0.         0.         0.         0.27715866 0.33629182 0.27715866\n",
      "  0.         0.2874511  0.23338618 0.22583946 0.26745469 0.2874511 ]\n",
      " [0.         0.         0.78487966 0.         0.         0.\n",
      "  0.         0.         0.         0.61964822 0.         0.\n",
      "  0.         0.         0.         0.         0.         0.        ]\n",
      " [0.2253771  0.26948376 0.         0.         0.21789672 0.21789672\n",
      "  0.30369554 0.3170359  0.         0.25029408 0.30369554 0.25029408\n",
      "  0.30369554 0.25958888 0.21076439 0.20394917 0.2415307  0.25958888]\n",
      " [0.2253771  0.26948376 0.         0.         0.21789672 0.21789672\n",
      "  0.30369554 0.3170359  0.         0.25029408 0.30369554 0.25029408\n",
      "  0.30369554 0.25958888 0.21076439 0.20394917 0.2415307  0.25958888]\n",
      " [0.         0.         0.         0.         0.         0.\n",
      "  0.         0.         0.         0.         0.         0.\n",
      "  0.         0.77633581 0.63031954 0.         0.         0.        ]\n",
      " [0.23654954 0.28284266 0.33275207 0.         0.22869834 0.22869834\n",
      "  0.         0.         0.         0.26270171 0.3187504  0.26270171\n",
      "  0.3187504  0.27245728 0.22121245 0.21405938 0.25350391 0.27245728]\n",
      " [0.         0.         0.         0.         0.         0.\n",
      "  0.         0.         0.         0.6941014  0.         0.\n",
      "  0.         0.71987724 0.         0.         0.         0.        ]\n",
      " [0.23654954 0.28284266 0.33275207 0.         0.22869834 0.22869834\n",
      "  0.         0.         0.         0.26270171 0.3187504  0.26270171\n",
      "  0.3187504  0.27245728 0.22121245 0.21405938 0.25350391 0.27245728]\n",
      " [0.         0.         0.         0.         0.         0.\n",
      "  0.         0.         0.         0.         0.         0.50896173\n",
      "  0.         0.5278623  0.4285799  0.         0.         0.5278623 ]] 25    0\n",
      "23    0\n",
      "7     2\n",
      "24    0\n",
      "34    0\n",
      "4     0\n",
      "36    0\n",
      "27    0\n",
      "30    0\n",
      "22    0\n",
      "6     2\n",
      "14    0\n",
      "18    0\n",
      "2     1\n",
      "15    0\n",
      "9     0\n",
      "28    0\n",
      "12    0\n",
      "10    0\n",
      "31    0\n",
      "17    0\n",
      "21    0\n",
      "13    0\n",
      "16    0\n",
      "32    0\n",
      "19    0\n",
      "8     1\n",
      "26    0\n",
      "5     2\n",
      "20    0\n",
      "3     1\n",
      "Name: Category_Code, dtype: int64\n",
      "Fitting 3 folds for each of 50 candidates, totalling 150 fits\n"
     ]
    },
    {
     "name": "stderr",
     "output_type": "stream",
     "text": [
      "[Parallel(n_jobs=1)]: Using backend SequentialBackend with 1 concurrent workers.\n",
      "[Parallel(n_jobs=1)]: Done 150 out of 150 | elapsed:   54.7s finished\n",
      "C:\\Users\\Sanjana Ashtaputre\\Anaconda3\\lib\\site-packages\\sklearn\\model_selection\\_search.py:841: DeprecationWarning: The default of the `iid` parameter will change from True to False in version 0.22 and will be removed in 0.24. This will change numeric results when test-set sizes are unequal.\n",
      "  DeprecationWarning)\n"
     ]
    },
    {
     "data": {
      "text/plain": [
       "RandomizedSearchCV(cv=3, error_score='raise-deprecating',\n",
       "          estimator=RandomForestClassifier(bootstrap=True, class_weight=None, criterion='gini',\n",
       "            max_depth=None, max_features='auto', max_leaf_nodes=None,\n",
       "            min_impurity_decrease=0.0, min_impurity_split=None,\n",
       "            min_samples_leaf=1, min_samples_split=2,\n",
       "            min_weight_fraction_leaf=0.0, n_estimators='warn', n_jobs=None,\n",
       "            oob_score=False, random_state=8, verbose=0, warm_start=False),\n",
       "          fit_params=None, iid='warn', n_iter=50, n_jobs=None,\n",
       "          param_distributions={'n_estimators': [200, 400, 600, 800, 1000], 'max_features': ['auto', 'sqrt'], 'max_depth': [20, 40, 60, 80, 100, None], 'min_samples_split': [2, 5, 10], 'min_samples_leaf': [1, 2, 4], 'bootstrap': [True, False]},\n",
       "          pre_dispatch='2*n_jobs', random_state=8, refit=True,\n",
       "          return_train_score='warn', scoring='accuracy', verbose=1)"
      ]
     },
     "execution_count": 110,
     "metadata": {},
     "output_type": "execute_result"
    }
   ],
   "source": [
    "# First create the base model to tune\n",
    "print(features_train,labels_train)\n",
    "rfc = RandomForestClassifier(random_state=8)\n",
    "\n",
    "# Definition of the random search\n",
    "random_search = RandomizedSearchCV(estimator=rfc,\n",
    "                                   param_distributions=random_grid,\n",
    "                                   n_iter=50,\n",
    "                                   scoring='accuracy',\n",
    "                                   cv=3, \n",
    "                                   verbose=1, \n",
    "                                   random_state=8)\n",
    "\n",
    "# Fit the random search model\n",
    "random_search.fit(features_train, labels_train)"
   ]
  },
  {
   "cell_type": "markdown",
   "metadata": {},
   "source": [
    "We can see the best hyperparameters resulting from the Random Search:"
   ]
  },
  {
   "cell_type": "code",
   "execution_count": 111,
   "metadata": {
    "scrolled": true
   },
   "outputs": [
    {
     "name": "stdout",
     "output_type": "stream",
     "text": [
      "The best hyperparameters from Random Search are:\n",
      "{'n_estimators': 800, 'min_samples_split': 10, 'min_samples_leaf': 1, 'max_features': 'sqrt', 'max_depth': 40, 'bootstrap': False}\n",
      "\n",
      "The mean accuracy of a model with these hyperparameters is:\n",
      "0.8709677419354839\n"
     ]
    }
   ],
   "source": [
    "print(\"The best hyperparameters from Random Search are:\")\n",
    "print(random_search.best_params_)\n",
    "print(\"\")\n",
    "print(\"The mean accuracy of a model with these hyperparameters is:\")\n",
    "print(random_search.best_score_)"
   ]
  },
  {
   "cell_type": "markdown",
   "metadata": {},
   "source": [
    "After that, we can do a more exhaustive search centered in those values:"
   ]
  },
  {
   "cell_type": "code",
   "execution_count": 112,
   "metadata": {},
   "outputs": [
    {
     "name": "stdout",
     "output_type": "stream",
     "text": [
      "Fitting 3 folds for each of 27 candidates, totalling 81 fits\n"
     ]
    },
    {
     "name": "stderr",
     "output_type": "stream",
     "text": [
      "[Parallel(n_jobs=1)]: Using backend SequentialBackend with 1 concurrent workers.\n",
      "[Parallel(n_jobs=1)]: Done  81 out of  81 | elapsed:   34.8s finished\n"
     ]
    },
    {
     "data": {
      "text/plain": [
       "GridSearchCV(cv=ShuffleSplit(n_splits=3, random_state=8, test_size=0.33, train_size=None),\n",
       "       error_score='raise-deprecating',\n",
       "       estimator=RandomForestClassifier(bootstrap=True, class_weight=None, criterion='gini',\n",
       "            max_depth=None, max_features='auto', max_leaf_nodes=None,\n",
       "            min_impurity_decrease=0.0, min_impurity_split=None,\n",
       "            min_samples_leaf=1, min_samples_split=2,\n",
       "            min_weight_fraction_leaf=0.0, n_estimators='warn', n_jobs=None,\n",
       "            oob_score=False, random_state=8, verbose=0, warm_start=False),\n",
       "       fit_params=None, iid='warn', n_jobs=None,\n",
       "       param_grid={'bootstrap': [False], 'max_depth': [30, 40, 50], 'max_features': ['sqrt'], 'min_samples_leaf': [1, 2, 4], 'min_samples_split': [5, 10, 15], 'n_estimators': [800]},\n",
       "       pre_dispatch='2*n_jobs', refit=True, return_train_score='warn',\n",
       "       scoring='accuracy', verbose=1)"
      ]
     },
     "execution_count": 112,
     "metadata": {},
     "output_type": "execute_result"
    }
   ],
   "source": [
    "# Create the parameter grid based on the results of random search \n",
    "bootstrap = [False]\n",
    "max_depth = [30, 40, 50]\n",
    "max_features = ['sqrt']\n",
    "min_samples_leaf = [1, 2, 4]\n",
    "min_samples_split = [5, 10, 15]\n",
    "n_estimators = [800]\n",
    "\n",
    "param_grid = {\n",
    "    'bootstrap': bootstrap,\n",
    "    'max_depth': max_depth,\n",
    "    'max_features': max_features,\n",
    "    'min_samples_leaf': min_samples_leaf,\n",
    "    'min_samples_split': min_samples_split,\n",
    "    'n_estimators': n_estimators\n",
    "}\n",
    "\n",
    "# Create a base model\n",
    "rfc = RandomForestClassifier(random_state=8)\n",
    "\n",
    "# Manually create the splits in CV in order to be able to fix a random_state (GridSearchCV doesn't have that argument)\n",
    "cv_sets = ShuffleSplit(n_splits = 3, test_size = .33, random_state = 8)\n",
    "\n",
    "# Instantiate the grid search model\n",
    "grid_search = GridSearchCV(estimator=rfc, \n",
    "                           param_grid=param_grid,\n",
    "                           scoring='accuracy',\n",
    "                           cv=cv_sets,\n",
    "                           verbose=1)\n",
    "\n",
    "# Fit the grid search to the data\n",
    "grid_search.fit(features_train, labels_train)"
   ]
  },
  {
   "cell_type": "code",
   "execution_count": 113,
   "metadata": {},
   "outputs": [
    {
     "name": "stdout",
     "output_type": "stream",
     "text": [
      "The best hyperparameters from Grid Search are:\n",
      "{'bootstrap': False, 'max_depth': 30, 'max_features': 'sqrt', 'min_samples_leaf': 1, 'min_samples_split': 5, 'n_estimators': 800}\n",
      "\n",
      "The mean accuracy of a model with these hyperparameters is:\n",
      "0.9090909090909091\n"
     ]
    }
   ],
   "source": [
    "print(\"The best hyperparameters from Grid Search are:\")\n",
    "print(grid_search.best_params_)\n",
    "print(\"\")\n",
    "print(\"The mean accuracy of a model with these hyperparameters is:\")\n",
    "print(grid_search.best_score_)"
   ]
  },
  {
   "cell_type": "markdown",
   "metadata": {},
   "source": [
    "Let's save the model in best_rfc:"
   ]
  },
  {
   "cell_type": "code",
   "execution_count": 114,
   "metadata": {},
   "outputs": [],
   "source": [
    "best_rfc = grid_search.best_estimator_"
   ]
  },
  {
   "cell_type": "code",
   "execution_count": 115,
   "metadata": {},
   "outputs": [
    {
     "data": {
      "text/plain": [
       "RandomForestClassifier(bootstrap=False, class_weight=None, criterion='gini',\n",
       "            max_depth=30, max_features='sqrt', max_leaf_nodes=None,\n",
       "            min_impurity_decrease=0.0, min_impurity_split=None,\n",
       "            min_samples_leaf=1, min_samples_split=5,\n",
       "            min_weight_fraction_leaf=0.0, n_estimators=800, n_jobs=None,\n",
       "            oob_score=False, random_state=8, verbose=0, warm_start=False)"
      ]
     },
     "execution_count": 115,
     "metadata": {},
     "output_type": "execute_result"
    }
   ],
   "source": [
    "best_rfc"
   ]
  },
  {
   "cell_type": "markdown",
   "metadata": {},
   "source": [
    "\n",
    "We now know the best random forest model. Let's fit it and see how it performs:\n",
    "\n",
    "Model fit and performance\n",
    "Now, we can fit the model to our training data:"
   ]
  },
  {
   "cell_type": "code",
   "execution_count": 116,
   "metadata": {},
   "outputs": [
    {
     "data": {
      "text/plain": [
       "RandomForestClassifier(bootstrap=False, class_weight=None, criterion='gini',\n",
       "            max_depth=30, max_features='sqrt', max_leaf_nodes=None,\n",
       "            min_impurity_decrease=0.0, min_impurity_split=None,\n",
       "            min_samples_leaf=1, min_samples_split=5,\n",
       "            min_weight_fraction_leaf=0.0, n_estimators=800, n_jobs=None,\n",
       "            oob_score=False, random_state=8, verbose=0, warm_start=False)"
      ]
     },
     "execution_count": 116,
     "metadata": {},
     "output_type": "execute_result"
    }
   ],
   "source": [
    "\n",
    "best_rfc.fit(features_train, labels_train)"
   ]
  },
  {
   "cell_type": "markdown",
   "metadata": {},
   "source": [
    "And get the predictions:"
   ]
  },
  {
   "cell_type": "code",
   "execution_count": 117,
   "metadata": {},
   "outputs": [],
   "source": [
    "\n",
    "rfc_pred = best_rfc.predict(features_test)"
   ]
  },
  {
   "cell_type": "markdown",
   "metadata": {},
   "source": [
    "The conditional class probabilities can be obtained by typing:\n",
    "\n",
    "rfc_pred = best_rfc.predict_proba(features_test)\n",
    "\n",
    "For performance analysis, we will use the confusion matrix, the classification report and the accuracy on both training and test data:\n",
    "\n"
   ]
  },
  {
   "cell_type": "markdown",
   "metadata": {},
   "source": [
    "Training accuracy"
   ]
  },
  {
   "cell_type": "code",
   "execution_count": 118,
   "metadata": {},
   "outputs": [
    {
     "name": "stdout",
     "output_type": "stream",
     "text": [
      "The training accuracy is: \n",
      "1.0\n"
     ]
    }
   ],
   "source": [
    "print(\"The training accuracy is: \")\n",
    "print(accuracy_score(labels_train, best_rfc.predict(features_train)))"
   ]
  },
  {
   "cell_type": "code",
   "execution_count": 119,
   "metadata": {},
   "outputs": [
    {
     "name": "stdout",
     "output_type": "stream",
     "text": [
      "The test accuracy is: \n",
      "0.8333333333333334\n"
     ]
    }
   ],
   "source": [
    "print(\"The test accuracy is: \")\n",
    "print(accuracy_score(labels_test, rfc_pred))"
   ]
  },
  {
   "cell_type": "code",
   "execution_count": 120,
   "metadata": {},
   "outputs": [
    {
     "name": "stdout",
     "output_type": "stream",
     "text": [
      "Classification report\n",
      "              precision    recall  f1-score   support\n",
      "\n",
      "           0       0.80      1.00      0.89         4\n",
      "           1       1.00      1.00      1.00         1\n",
      "           2       0.00      0.00      0.00         1\n",
      "\n",
      "   micro avg       0.83      0.83      0.83         6\n",
      "   macro avg       0.60      0.67      0.63         6\n",
      "weighted avg       0.70      0.83      0.76         6\n",
      "\n"
     ]
    },
    {
     "name": "stderr",
     "output_type": "stream",
     "text": [
      "C:\\Users\\Sanjana Ashtaputre\\Anaconda3\\lib\\site-packages\\sklearn\\metrics\\classification.py:1143: UndefinedMetricWarning: Precision and F-score are ill-defined and being set to 0.0 in labels with no predicted samples.\n",
      "  'precision', 'predicted', average, warn_for)\n",
      "C:\\Users\\Sanjana Ashtaputre\\Anaconda3\\lib\\site-packages\\sklearn\\metrics\\classification.py:1143: UndefinedMetricWarning: Precision and F-score are ill-defined and being set to 0.0 in labels with no predicted samples.\n",
      "  'precision', 'predicted', average, warn_for)\n",
      "C:\\Users\\Sanjana Ashtaputre\\Anaconda3\\lib\\site-packages\\sklearn\\metrics\\classification.py:1143: UndefinedMetricWarning: Precision and F-score are ill-defined and being set to 0.0 in labels with no predicted samples.\n",
      "  'precision', 'predicted', average, warn_for)\n"
     ]
    }
   ],
   "source": [
    "print(\"Classification report\")\n",
    "print(classification_report(labels_test,rfc_pred))"
   ]
  },
  {
   "cell_type": "code",
   "execution_count": 123,
   "metadata": {},
   "outputs": [
    {
     "data": {
      "image/png": "[encoded data removed]",
      "text/plain": [
       "<Figure size 921.6x432 with 2 Axes>"
      ]
     },
     "metadata": {
      "needs_background": "light"
     },
     "output_type": "display_data"
    }
   ],
   "source": [
    "aux_df = df[['Type', 'Category_Code']].drop_duplicates().sort_values('Category_Code')\n",
    "conf_matrix = confusion_matrix(labels_test, rfc_pred)\n",
    "plt.figure(figsize=(12.8,6))\n",
    "sns.heatmap(conf_matrix, \n",
    "            annot=True,\n",
    "            xticklabels=aux_df['Type'].values, \n",
    "            yticklabels=aux_df['Type'].values,\n",
    "            cmap=\"Blues\")\n",
    "plt.ylabel('Predicted')\n",
    "plt.xlabel('Actual')\n",
    "plt.title('Confusion matrix')\n",
    "plt.show()"
   ]
  },
  {
   "cell_type": "markdown",
   "metadata": {},
   "source": [
    "Let's see if the hyperparameter tuning process has returned a better model:"
   ]
  },
  {
   "cell_type": "code",
   "execution_count": 125,
   "metadata": {},
   "outputs": [
    {
     "name": "stderr",
     "output_type": "stream",
     "text": [
      "C:\\Users\\Sanjana Ashtaputre\\Anaconda3\\lib\\site-packages\\sklearn\\ensemble\\forest.py:246: FutureWarning: The default value of n_estimators will change from 10 in version 0.20 to 100 in 0.22.\n",
      "  \"10 in version 0.20 to 100 in 0.22.\", FutureWarning)\n"
     ]
    },
    {
     "data": {
      "text/plain": [
       "1.0"
      ]
     },
     "execution_count": 125,
     "metadata": {},
     "output_type": "execute_result"
    }
   ],
   "source": [
    "base_model = RandomForestClassifier(random_state = 8)\n",
    "base_model.fit(features_train, labels_train)\n",
    "accuracy_score(labels_test, base_model.predict(features_test))"
   ]
  },
  {
   "cell_type": "code",
   "execution_count": 126,
   "metadata": {},
   "outputs": [
    {
     "data": {
      "text/plain": [
       "0.8333333333333334"
      ]
     },
     "execution_count": 126,
     "metadata": {},
     "output_type": "execute_result"
    }
   ],
   "source": [
    "best_rfc.fit(features_train, labels_train)\n",
    "accuracy_score(labels_test, best_rfc.predict(features_test))"
   ]
  },
  {
   "cell_type": "code",
   "execution_count": 127,
   "metadata": {},
   "outputs": [],
   "source": [
    "d = {\n",
    "     'Model': 'Random Forest',\n",
    "     'Training Set Accuracy': accuracy_score(labels_train, best_rfc.predict(features_train)),\n",
    "     'Test Set Accuracy': accuracy_score(labels_test, rfc_pred)\n",
    "}\n",
    "\n",
    "df_models_rfc = pd.DataFrame(d, index=[0])"
   ]
  },
  {
   "cell_type": "code",
   "execution_count": 128,
   "metadata": {},
   "outputs": [
    {
     "data": {
      "text/html": [
       "<div>\n",
       "<style scoped>\n",
       "    .dataframe tbody tr th:only-of-type {\n",
       "        vertical-align: middle;\n",
       "    }\n",
       "\n",
       "    .dataframe tbody tr th {\n",
       "        vertical-align: top;\n",
       "    }\n",
       "\n",
       "    .dataframe thead th {\n",
       "        text-align: right;\n",
       "    }\n",
       "</style>\n",
       "<table border=\"1\" class=\"dataframe\">\n",
       "  <thead>\n",
       "    <tr style=\"text-align: right;\">\n",
       "      <th></th>\n",
       "      <th>Model</th>\n",
       "      <th>Training Set Accuracy</th>\n",
       "      <th>Test Set Accuracy</th>\n",
       "    </tr>\n",
       "  </thead>\n",
       "  <tbody>\n",
       "    <tr>\n",
       "      <th>0</th>\n",
       "      <td>Random Forest</td>\n",
       "      <td>1.0</td>\n",
       "      <td>0.833333</td>\n",
       "    </tr>\n",
       "  </tbody>\n",
       "</table>\n",
       "</div>"
      ],
      "text/plain": [
       "           Model  Training Set Accuracy  Test Set Accuracy\n",
       "0  Random Forest                    1.0           0.833333"
      ]
     },
     "execution_count": 128,
     "metadata": {},
     "output_type": "execute_result"
    }
   ],
   "source": [
    "df_models_rfc"
   ]
  },
  {
   "cell_type": "markdown",
   "metadata": {},
   "source": [
    "Let's save the model and this dataset:"
   ]
  },
  {
   "cell_type": "code",
   "execution_count": 130,
   "metadata": {},
   "outputs": [],
   "source": [
    "with open('C:\\\\Users\\\\Sanjana Ashtaputre\\\\Downloads//best_rfc.pickle', 'wb') as output:\n",
    "    pickle.dump(best_rfc, output)\n",
    "    \n",
    "with open('C:\\\\Users\\\\Sanjana Ashtaputre\\\\Downloads//df_models_rfc.pickle', 'wb') as output:\n",
    "    pickle.dump(df_models_rfc, output)"
   ]
  },
  {
   "cell_type": "code",
   "execution_count": null,
   "metadata": {},
   "outputs": [],
   "source": []
  },
  {
   "cell_type": "code",
   "execution_count": null,
   "metadata": {},
   "outputs": [],
   "source": []
  }
 ],
 "metadata": {
  "kernelspec": {
   "display_name": "Python 3",
   "language": "python",
   "name": "python3"
  },
  "language_info": {
   "codemirror_mode": {
    "name": "ipython",
    "version": 3
   },
   "file_extension": ".py",
   "mimetype": "text/x-python",
   "name": "python",
   "nbconvert_exporter": "python",
   "pygments_lexer": "ipython3",
   "version": "3.7.3"
  }
 },
 "nbformat": 4,
 "nbformat_minor": 2
}
